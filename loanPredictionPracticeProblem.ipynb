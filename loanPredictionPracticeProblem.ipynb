{
 "cells": [
  {
   "cell_type": "markdown",
   "metadata": {},
   "source": [
    "## This is a solution for the Loan Prediction Practice Problem contest:   \n",
    "https://datahack.analyticsvidhya.com/contest/practice-problem-loan-prediction-iii/\n",
    "started:  \n",
    "Wed May 25 2016 20:31:00 GMT+0200 (CEST)  \n",
    "closed: Mon May 01 2017 20:29:00 GMT+0200 (CEST)  \n",
    "Prizes: Knowledge and Learning"
   ]
  },
  {
   "cell_type": "code",
   "execution_count": 760,
   "metadata": {
    "collapsed": true
   },
   "outputs": [],
   "source": [
    "import sklearn\n",
    "import pandas as pd\n",
    "import numpy as np\n",
    "from sklearn import metrics\n",
    "from sklearn.model_selection import cross_val_score\n",
    "import h2o\n",
    "from h2o.estimators.random_forest import H2ORandomForestEstimator"
   ]
  },
  {
   "cell_type": "code",
   "execution_count": 761,
   "metadata": {
    "collapsed": true
   },
   "outputs": [],
   "source": [
    "# This function replaces variables in a dataframe acording to a map determined by the dictionary\n",
    "# passed to the second argument:\n",
    "\n",
    "def coding(col, codeDict):\n",
    "    colCoded = pd.Series(col, copy=True)\n",
    "    for key, value in codeDict.items():\n",
    "        colCoded.replace(key, value, inplace=True)\n",
    "    return colCoded\n",
    "\n",
    "# Replaces a column of a dataframe to a new  column determined by the dictionary passed to its third argument.\n",
    "def to_numeric(df, colname, dictionary, new_colname) :\n",
    "    df.loc[:,new_colname] = coding(df.loc[:,colname], dictionary)\n",
    "    del df[colname]\n",
    "    #df.drop(colname, axis=1, inplace=True)"
   ]
  },
  {
   "cell_type": "code",
   "execution_count": 762,
   "metadata": {
    "collapsed": true
   },
   "outputs": [],
   "source": [
    "# This function replaces variables in a dataframe acording to a map determined by the dictionary\n",
    "# passed to the second argument:\n",
    "\n",
    "def coding(col, codeDict):\n",
    "    colCoded = pd.Series(col, copy=True)\n",
    "    for key, value in codeDict.items():\n",
    "        colCoded.replace(key, value, inplace=True)\n",
    "    return colCoded\n",
    "\n",
    "# Replaces a column of a dataframe to a new  column determined by the dictionary passed to its third argument.\n",
    "def to_numeric(df, colname, dictionary, new_colname) :\n",
    "    df.loc[:,new_colname] = coding(df.loc[:,colname], dictionary)\n",
    "    del df[colname]\n",
    "    #df.drop(colname, axis=1, inplace=True)"
   ]
  },
  {
   "cell_type": "code",
   "execution_count": 763,
   "metadata": {
    "collapsed": true
   },
   "outputs": [],
   "source": [
    "raw_data = pd.read_csv('train_u6lujuX_CVtuZ9i.csv')\n",
    "raw_test = pd.read_csv('test_Y3wMUE5_7gLdaTN.csv')"
   ]
  },
  {
   "cell_type": "code",
   "execution_count": 764,
   "metadata": {
    "collapsed": false
   },
   "outputs": [
    {
     "data": {
      "text/plain": [
       "(614, 13)"
      ]
     },
     "execution_count": 764,
     "metadata": {},
     "output_type": "execute_result"
    }
   ],
   "source": [
    "raw_data.shape"
   ]
  },
  {
   "cell_type": "code",
   "execution_count": 766,
   "metadata": {
    "collapsed": false
   },
   "outputs": [
    {
     "data": {
      "text/plain": [
       "Loan_ID               object\n",
       "Gender                object\n",
       "Married               object\n",
       "Dependents            object\n",
       "Education             object\n",
       "Self_Employed         object\n",
       "ApplicantIncome        int64\n",
       "CoapplicantIncome    float64\n",
       "LoanAmount           float64\n",
       "Loan_Amount_Term     float64\n",
       "Credit_History       float64\n",
       "Property_Area         object\n",
       "Loan_Status           object\n",
       "dtype: object"
      ]
     },
     "execution_count": 766,
     "metadata": {},
     "output_type": "execute_result"
    }
   ],
   "source": [
    "raw_data.dtypes"
   ]
  },
  {
   "cell_type": "code",
   "execution_count": 767,
   "metadata": {
    "collapsed": true
   },
   "outputs": [],
   "source": [
    "raw_data['istrain']=1\n",
    "raw_test['istrain']=0\n",
    "#1\n",
    "target=raw_data['Loan_Status']\n",
    "del raw_data['Loan_Status']"
   ]
  },
  {
   "cell_type": "code",
   "execution_count": 768,
   "metadata": {
    "collapsed": true
   },
   "outputs": [],
   "source": [
    "frames = [raw_data, raw_test]\n",
    "alldata = pd.concat(frames)"
   ]
  },
  {
   "cell_type": "code",
   "execution_count": 769,
   "metadata": {
    "collapsed": false
   },
   "outputs": [
    {
     "name": "stdout",
     "output_type": "stream",
     "text": [
      "('Gender', 24)\n",
      "('Married', 3)\n",
      "('Dependents', 25)\n",
      "('Self_Employed', 55)\n",
      "('LoanAmount', 27)\n",
      "('Loan_Amount_Term', 20)\n",
      "('Credit_History', 79)\n"
     ]
    }
   ],
   "source": [
    "for col in alldata.columns:\n",
    "    if alldata[col].isnull().sum()>0:\n",
    "        print(col, alldata[col].isnull().sum())"
   ]
  },
  {
   "cell_type": "code",
   "execution_count": 770,
   "metadata": {
    "collapsed": false
   },
   "outputs": [],
   "source": [
    "\n",
    "#imputing with \"others\":\n",
    "\n",
    "alldata[\"Married\"].fillna(\"others\", inplace=True)"
   ]
  },
  {
   "cell_type": "code",
   "execution_count": 771,
   "metadata": {
    "collapsed": false
   },
   "outputs": [
    {
     "name": "stdout",
     "output_type": "stream",
     "text": [
      "['Male' 'Female' nan]\n"
     ]
    }
   ],
   "source": [
    "print alldata[\"Gender\"].unique()"
   ]
  },
  {
   "cell_type": "code",
   "execution_count": 772,
   "metadata": {
    "collapsed": false
   },
   "outputs": [],
   "source": [
    "#imputing with \"others\":\n",
    "\n",
    "alldata[\"Gender\"].fillna(\"others\", inplace=True)"
   ]
  },
  {
   "cell_type": "code",
   "execution_count": 773,
   "metadata": {
    "collapsed": false
   },
   "outputs": [
    {
     "name": "stdout",
     "output_type": "stream",
     "text": [
      "['0' '1' '2' '3+' nan]\n"
     ]
    }
   ],
   "source": [
    "print alldata[\"Dependents\"].unique()"
   ]
  },
  {
   "cell_type": "code",
   "execution_count": 774,
   "metadata": {
    "collapsed": false
   },
   "outputs": [],
   "source": [
    "#imputing with \"others\":\n",
    "\n",
    "alldata[\"Dependents\"].fillna(\"others\", inplace=True)"
   ]
  },
  {
   "cell_type": "code",
   "execution_count": 775,
   "metadata": {
    "collapsed": false
   },
   "outputs": [],
   "source": [
    "dict_Dependents={'0':1,'1':2,'2':3,\n",
    "        '3+':4, 'others':-1}\n",
    "\n",
    "\n",
    "to_numeric(alldata, \"Dependents\", dict_Dependents, \"new_Dep\")"
   ]
  },
  {
   "cell_type": "code",
   "execution_count": 776,
   "metadata": {
    "collapsed": false
   },
   "outputs": [
    {
     "name": "stdout",
     "output_type": "stream",
     "text": [
      "['Graduate' 'Not Graduate']\n"
     ]
    }
   ],
   "source": [
    "print alldata[\"Education\"].unique()"
   ]
  },
  {
   "cell_type": "code",
   "execution_count": 777,
   "metadata": {
    "collapsed": false
   },
   "outputs": [],
   "source": [
    "#imputing with \"others\":\n",
    "\n",
    "#alldata[\"Dependents\"].fillna(\"others\", inplace=True)"
   ]
  },
  {
   "cell_type": "code",
   "execution_count": 778,
   "metadata": {
    "collapsed": false
   },
   "outputs": [
    {
     "name": "stdout",
     "output_type": "stream",
     "text": [
      "['No' 'Yes' nan]\n"
     ]
    }
   ],
   "source": [
    "print alldata['Self_Employed'].unique()"
   ]
  },
  {
   "cell_type": "code",
   "execution_count": 779,
   "metadata": {
    "collapsed": false
   },
   "outputs": [],
   "source": [
    "#imputing with \"others\":\n",
    "\n",
    "alldata['Self_Employed'].fillna(\"others\", inplace=True)"
   ]
  },
  {
   "cell_type": "code",
   "execution_count": 780,
   "metadata": {
    "collapsed": false
   },
   "outputs": [],
   "source": [
    "#imputing with \"others\":\n",
    "\n",
    "alldata['LoanAmount'].fillna(-1, inplace=True)"
   ]
  },
  {
   "cell_type": "code",
   "execution_count": 781,
   "metadata": {
    "collapsed": false
   },
   "outputs": [
    {
     "name": "stdout",
     "output_type": "stream",
     "text": [
      "[ 360.  120.  240.   nan  180.   60.  300.  480.   36.   84.   12.  350.\n",
      "    6.]\n"
     ]
    }
   ],
   "source": [
    "print alldata['Loan_Amount_Term'].unique()"
   ]
  },
  {
   "cell_type": "code",
   "execution_count": 782,
   "metadata": {
    "collapsed": false
   },
   "outputs": [
    {
     "name": "stdout",
     "output_type": "stream",
     "text": [
      "[ 360.  120.  240.   -1.  180.   60.  300.  480.   36.   84.   12.  350.\n",
      "    6.]\n"
     ]
    }
   ],
   "source": [
    "#imputing with \"others\":\n",
    "\n",
    "alldata['Loan_Amount_Term'].fillna(-1, inplace=True)\n",
    "print alldata['Loan_Amount_Term'].unique()"
   ]
  },
  {
   "cell_type": "code",
   "execution_count": 783,
   "metadata": {
    "collapsed": false
   },
   "outputs": [
    {
     "name": "stdout",
     "output_type": "stream",
     "text": [
      "[  1.   0.  nan]\n"
     ]
    }
   ],
   "source": [
    "print alldata['Credit_History'].unique()"
   ]
  },
  {
   "cell_type": "code",
   "execution_count": 784,
   "metadata": {
    "collapsed": false
   },
   "outputs": [
    {
     "name": "stdout",
     "output_type": "stream",
     "text": [
      "[ 1.  0. -1.]\n"
     ]
    }
   ],
   "source": [
    "#imputing with \"others\":\n",
    "\n",
    "alldata['Credit_History'].fillna(-1, inplace=True)\n",
    "print alldata['Credit_History'].unique()"
   ]
  },
  {
   "cell_type": "markdown",
   "metadata": {},
   "source": [
    "# New Features"
   ]
  },
  {
   "cell_type": "code",
   "execution_count": 785,
   "metadata": {
    "collapsed": false
   },
   "outputs": [
    {
     "data": {
      "text/plain": [
       "552"
      ]
     },
     "execution_count": 785,
     "metadata": {},
     "output_type": "execute_result"
    }
   ],
   "source": [
    "np.sum(alldata['CoapplicantIncome']!=0)"
   ]
  },
  {
   "cell_type": "code",
   "execution_count": 786,
   "metadata": {
    "collapsed": false
   },
   "outputs": [],
   "source": [
    "alldata[\"new1\"]=alldata[\"LoanAmount\"]/alldata[\"Loan_Amount_Term\"]\n",
    "alldata[\"new2\"]=alldata[\"CoapplicantIncome\"]+alldata[\"ApplicantIncome\"]\n",
    "alldata[\"new4\"]=alldata[\"new1\"]/alldata[\"new2\"]\n",
    "alldata[\"new2\"]=np.log(alldata[\"new2\"])\n",
    "\n",
    "alldata[\"new3\"]=(alldata[\"CoapplicantIncome\"]+alldata[\"ApplicantIncome\"])/alldata['Loan_Amount_Term']"
   ]
  },
  {
   "cell_type": "code",
   "execution_count": 787,
   "metadata": {
    "collapsed": true
   },
   "outputs": [],
   "source": [
    "alldata=pd.get_dummies(alldata, drop_first=True, columns=['Gender', 'Married', 'Education',\n",
    "       'Self_Employed', \n",
    "        'Property_Area'])"
   ]
  },
  {
   "cell_type": "code",
   "execution_count": 788,
   "metadata": {
    "collapsed": false
   },
   "outputs": [],
   "source": [
    "#help(pd.get_dummies)"
   ]
  },
  {
   "cell_type": "code",
   "execution_count": 789,
   "metadata": {
    "collapsed": true
   },
   "outputs": [],
   "source": [
    "train_df=alldata[alldata[\"istrain\"]==1]\n",
    "test_df=alldata[alldata[\"istrain\"]==0]\n"
   ]
  },
  {
   "cell_type": "code",
   "execution_count": 790,
   "metadata": {
    "collapsed": false
   },
   "outputs": [],
   "source": [
    "train_df.ix[:,'Loan_Status']=target"
   ]
  },
  {
   "cell_type": "code",
   "execution_count": 791,
   "metadata": {
    "collapsed": false
   },
   "outputs": [
    {
     "name": "stdout",
     "output_type": "stream",
     "text": [
      "Checking whether there is an H2O instance running at http://localhost:54321. connected.\n",
      "Warning: Your H2O cluster version is too old (5 months and 6 days)! Please download and install the latest version from http://h2o.ai/download/\n"
     ]
    },
    {
     "data": {
      "text/html": [
       "<div style=\"overflow:auto\"><table style=\"width:50%\"><tr><td>H2O cluster uptime:</td>\n",
       "<td>2 hours 7 mins</td></tr>\n",
       "<tr><td>H2O cluster version:</td>\n",
       "<td>3.10.0.9</td></tr>\n",
       "<tr><td>H2O cluster version age:</td>\n",
       "<td>5 months and 6 days !!!</td></tr>\n",
       "<tr><td>H2O cluster name:</td>\n",
       "<td>H2O_from_python_badicst_n4264c</td></tr>\n",
       "<tr><td>H2O cluster total nodes:</td>\n",
       "<td>1</td></tr>\n",
       "<tr><td>H2O cluster free memory:</td>\n",
       "<td>1.612 Gb</td></tr>\n",
       "<tr><td>H2O cluster total cores:</td>\n",
       "<td>4</td></tr>\n",
       "<tr><td>H2O cluster allowed cores:</td>\n",
       "<td>4</td></tr>\n",
       "<tr><td>H2O cluster status:</td>\n",
       "<td>locked, healthy</td></tr>\n",
       "<tr><td>H2O connection url:</td>\n",
       "<td>http://localhost:54321</td></tr>\n",
       "<tr><td>H2O connection proxy:</td>\n",
       "<td>None</td></tr>\n",
       "<tr><td>Python version:</td>\n",
       "<td>2.7.13 final</td></tr></table></div>"
      ],
      "text/plain": [
       "--------------------------  ------------------------------\n",
       "H2O cluster uptime:         2 hours 7 mins\n",
       "H2O cluster version:        3.10.0.9\n",
       "H2O cluster version age:    5 months and 6 days !!!\n",
       "H2O cluster name:           H2O_from_python_badicst_n4264c\n",
       "H2O cluster total nodes:    1\n",
       "H2O cluster free memory:    1.612 Gb\n",
       "H2O cluster total cores:    4\n",
       "H2O cluster allowed cores:  4\n",
       "H2O cluster status:         locked, healthy\n",
       "H2O connection url:         http://localhost:54321\n",
       "H2O connection proxy:\n",
       "Python version:             2.7.13 final\n",
       "--------------------------  ------------------------------"
      ]
     },
     "metadata": {},
     "output_type": "display_data"
    }
   ],
   "source": [
    "h2o.init(max_mem_size = \"2G\")\n",
    "h2o.remove_all()"
   ]
  },
  {
   "cell_type": "code",
   "execution_count": 792,
   "metadata": {
    "collapsed": false
   },
   "outputs": [
    {
     "name": "stdout",
     "output_type": "stream",
     "text": [
      "Parse progress: |█████████████████████████████████████████████████████████| 100%\n",
      "Parse progress: |█████████████████████████████████████████████████████████| 100%\n"
     ]
    }
   ],
   "source": [
    "train_df.columns\n",
    "train_df=h2o.H2OFrame(train_df)\n",
    "test_df=h2o.H2OFrame(test_df)"
   ]
  },
  {
   "cell_type": "markdown",
   "metadata": {},
   "source": [
    "# Validation:"
   ]
  },
  {
   "cell_type": "code",
   "execution_count": 793,
   "metadata": {
    "collapsed": false
   },
   "outputs": [],
   "source": [
    "trainl, validl, testl = train_df.split_frame([0.6, 0.2], seed=1235)"
   ]
  },
  {
   "cell_type": "code",
   "execution_count": 794,
   "metadata": {
    "collapsed": false
   },
   "outputs": [
    {
     "name": "stdout",
     "output_type": "stream",
     "text": [
      "drf Model Build progress: |███████████████████████████████████████████████| 100%\n",
      "drf prediction progress: |████████████████████████████████████████████████| 100%\n"
     ]
    },
    {
     "data": {
      "text/plain": [
       "0.74380165289256195"
      ]
     },
     "execution_count": 794,
     "metadata": {},
     "output_type": "execute_result"
    }
   ],
   "source": [
    "X = trainl.col_names[:-1]     #last column is the response variable \n",
    "y = trainl.col_names[-1] \n",
    "from enum import Enum\n",
    "rf_v1 = H2ORandomForestEstimator(\n",
    "    model_id=\"rf_covType_v1\",\n",
    "    balance_classes=True,\n",
    "    max_depth=3,\n",
    "    ntrees=1000,\n",
    "    stopping_rounds=2,\n",
    "    stopping_tolerance=0.0000001,\n",
    "    score_each_iteration=True,\n",
    "    seed=1000000,\n",
    "    nfolds=5)\n",
    "rf_v1.train(X, y, training_frame=trainl, validation_frame=validl)\n",
    "final_rf_predictions = rf_v1.predict(testl[:-1])\n",
    "pred=final_rf_predictions.as_data_frame(use_pandas=True)\n",
    "pred=np.array(pred[\"predict\"])\n",
    "true_labels=np.array(testl[\"Loan_Status\"].as_data_frame(use_pandas=True))\n",
    "metrics.accuracy_score(true_labels, pred, normalize=True)\n"
   ]
  },
  {
   "cell_type": "code",
   "execution_count": 795,
   "metadata": {
    "collapsed": false
   },
   "outputs": [
    {
     "name": "stdout",
     "output_type": "stream",
     "text": [
      "drf prediction progress: |████████████████████████████████████████████████| 100%\n"
     ]
    },
    {
     "data": {
      "text/plain": [
       "0.73109243697478987"
      ]
     },
     "execution_count": 795,
     "metadata": {},
     "output_type": "execute_result"
    }
   ],
   "source": [
    "final_rf_predictions_val = rf_v1.predict(validl[:-1])\n",
    "predv=final_rf_predictions_val.as_data_frame(use_pandas=True)\n",
    "predv=np.array(predv[\"predict\"])\n",
    "true_labelsv=np.array(validl[\"Loan_Status\"].as_data_frame(use_pandas=True))\n",
    "from sklearn.metrics import accuracy_score\n",
    "accuracy_score(true_labelsv, predv)"
   ]
  },
  {
   "cell_type": "code",
   "execution_count": 796,
   "metadata": {
    "collapsed": false
   },
   "outputs": [
    {
     "name": "stdout",
     "output_type": "stream",
     "text": [
      "Cross-Validation Metrics Summary: \n"
     ]
    },
    {
     "data": {
      "text/html": [
       "<div style=\"overflow:auto\"><table style=\"width:50%\"><tr><td><b></b></td>\n",
       "<td><b>mean</b></td>\n",
       "<td><b>sd</b></td>\n",
       "<td><b>cv_1_valid</b></td>\n",
       "<td><b>cv_2_valid</b></td>\n",
       "<td><b>cv_3_valid</b></td>\n",
       "<td><b>cv_4_valid</b></td>\n",
       "<td><b>cv_5_valid</b></td></tr>\n",
       "<tr><td>accuracy</td>\n",
       "<td>0.7715284</td>\n",
       "<td>0.0242406</td>\n",
       "<td>0.7848101</td>\n",
       "<td>0.8333333</td>\n",
       "<td>0.7460318</td>\n",
       "<td>0.7464789</td>\n",
       "<td>0.7469879</td></tr>\n",
       "<tr><td>auc</td>\n",
       "<td>0.7430612</td>\n",
       "<td>0.0323796</td>\n",
       "<td>0.8033333</td>\n",
       "<td>0.7786132</td>\n",
       "<td>0.6722075</td>\n",
       "<td>0.7192691</td>\n",
       "<td>0.7418831</td></tr>\n",
       "<tr><td>err</td>\n",
       "<td>0.2284716</td>\n",
       "<td>0.0242406</td>\n",
       "<td>0.2151899</td>\n",
       "<td>0.1666667</td>\n",
       "<td>0.2539683</td>\n",
       "<td>0.2535211</td>\n",
       "<td>0.2530121</td></tr>\n",
       "<tr><td>err_count</td>\n",
       "<td>17.0</td>\n",
       "<td>1.8439089</td>\n",
       "<td>17.0</td>\n",
       "<td>13.0</td>\n",
       "<td>16.0</td>\n",
       "<td>18.0</td>\n",
       "<td>21.0</td></tr>\n",
       "<tr><td>f0point5</td>\n",
       "<td>0.7993364</td>\n",
       "<td>0.0190848</td>\n",
       "<td>0.8121019</td>\n",
       "<td>0.8456973</td>\n",
       "<td>0.7859532</td>\n",
       "<td>0.7692308</td>\n",
       "<td>0.7836990</td></tr>\n",
       "<tr><td>f1</td>\n",
       "<td>0.8488566</td>\n",
       "<td>0.0214724</td>\n",
       "<td>0.8571429</td>\n",
       "<td>0.8976378</td>\n",
       "<td>0.8545455</td>\n",
       "<td>0.8085107</td>\n",
       "<td>0.8264463</td></tr>\n",
       "<tr><td>f2</td>\n",
       "<td>0.9052496</td>\n",
       "<td>0.0271707</td>\n",
       "<td>0.9074733</td>\n",
       "<td>0.9563758</td>\n",
       "<td>0.936255</td>\n",
       "<td>0.8520179</td>\n",
       "<td>0.8741259</td></tr>\n",
       "<tr><td>lift_top_group</td>\n",
       "<td>1.4664127</td>\n",
       "<td>0.0783844</td>\n",
       "<td>1.462963</td>\n",
       "<td>1.3684211</td>\n",
       "<td>1.3404255</td>\n",
       "<td>1.6511627</td>\n",
       "<td>1.5090909</td></tr>\n",
       "<tr><td>logloss</td>\n",
       "<td>0.5611854</td>\n",
       "<td>0.0288787</td>\n",
       "<td>0.5537322</td>\n",
       "<td>0.5004358</td>\n",
       "<td>0.5500679</td>\n",
       "<td>0.6265777</td>\n",
       "<td>0.5751133</td></tr>\n",
       "<tr><td>max_per_class_error</td>\n",
       "<td>0.6429524</td>\n",
       "<td>0.1311385</td>\n",
       "<td>0.56</td>\n",
       "<td>0.6190476</td>\n",
       "<td>1.0</td>\n",
       "<td>0.4642857</td>\n",
       "<td>0.5714286</td></tr>\n",
       "<tr><td>mcc</td>\n",
       "<td>0.4691255</td>\n",
       "<td>0.0470871</td>\n",
       "<td>0.4682521</td>\n",
       "<td>0.5569597</td>\n",
       "<td>NaN</td>\n",
       "<td>0.4556990</td>\n",
       "<td>0.3955911</td></tr>\n",
       "<tr><td>mean_per_class_accuracy</td>\n",
       "<td>0.6522495</td>\n",
       "<td>0.0546045</td>\n",
       "<td>0.6922222</td>\n",
       "<td>0.6904762</td>\n",
       "<td>0.5</td>\n",
       "<td>0.7097176</td>\n",
       "<td>0.6688312</td></tr>\n",
       "<tr><td>mean_per_class_error</td>\n",
       "<td>0.3477506</td>\n",
       "<td>0.0546045</td>\n",
       "<td>0.3077778</td>\n",
       "<td>0.3095238</td>\n",
       "<td>0.5</td>\n",
       "<td>0.2902824</td>\n",
       "<td>0.3311688</td></tr>\n",
       "<tr><td>mse</td>\n",
       "<td>0.1883623</td>\n",
       "<td>0.0132268</td>\n",
       "<td>0.1861257</td>\n",
       "<td>0.1598707</td>\n",
       "<td>0.1827782</td>\n",
       "<td>0.2175235</td>\n",
       "<td>0.1955137</td></tr>\n",
       "<tr><td>precision</td>\n",
       "<td>0.7695214</td>\n",
       "<td>0.0187687</td>\n",
       "<td>0.7846154</td>\n",
       "<td>0.8142857</td>\n",
       "<td>0.7460318</td>\n",
       "<td>0.7450980</td>\n",
       "<td>0.7575757</td></tr>\n",
       "<tr><td>r2</td>\n",
       "<td>0.1153864</td>\n",
       "<td>0.0360115</td>\n",
       "<td>0.1395478</td>\n",
       "<td>0.1874241</td>\n",
       "<td>0.0353105</td>\n",
       "<td>0.0892561</td>\n",
       "<td>0.1253937</td></tr>\n",
       "<tr><td>recall</td>\n",
       "<td>0.9474512</td>\n",
       "<td>0.0332639</td>\n",
       "<td>0.9444444</td>\n",
       "<td>1.0</td>\n",
       "<td>1.0</td>\n",
       "<td>0.8837209</td>\n",
       "<td>0.9090909</td></tr>\n",
       "<tr><td>rmse</td>\n",
       "<td>0.4334700</td>\n",
       "<td>0.0152653</td>\n",
       "<td>0.4314229</td>\n",
       "<td>0.3998384</td>\n",
       "<td>0.4275256</td>\n",
       "<td>0.4663941</td>\n",
       "<td>0.4421693</td></tr>\n",
       "<tr><td>specificity</td>\n",
       "<td>0.3570476</td>\n",
       "<td>0.1311385</td>\n",
       "<td>0.44</td>\n",
       "<td>0.3809524</td>\n",
       "<td>0.0</td>\n",
       "<td>0.5357143</td>\n",
       "<td>0.4285714</td></tr></table></div>"
      ],
      "text/plain": [
       "                         mean      sd         cv_1_valid    cv_2_valid    cv_3_valid    cv_4_valid    cv_5_valid\n",
       "-----------------------  --------  ---------  ------------  ------------  ------------  ------------  ------------\n",
       "accuracy                 0.771528  0.0242406  0.78481       0.833333      0.746032      0.746479      0.746988\n",
       "auc                      0.743061  0.0323796  0.803333      0.778613      0.672207      0.719269      0.741883\n",
       "err                      0.228472  0.0242406  0.21519       0.166667      0.253968      0.253521      0.253012\n",
       "err_count                17        1.84391    17            13            16            18            21\n",
       "f0point5                 0.799336  0.0190848  0.812102      0.845697      0.785953      0.769231      0.783699\n",
       "f1                       0.848857  0.0214724  0.857143      0.897638      0.854545      0.808511      0.826446\n",
       "f2                       0.90525   0.0271707  0.907473      0.956376      0.936255      0.852018      0.874126\n",
       "lift_top_group           1.46641   0.0783844  1.46296       1.36842       1.34043       1.65116       1.50909\n",
       "logloss                  0.561185  0.0288787  0.553732      0.500436      0.550068      0.626578      0.575113\n",
       "max_per_class_error      0.642952  0.131138   0.56          0.619048      1             0.464286      0.571429\n",
       "mcc                      0.469125  0.0470871  0.468252      0.55696       nan           0.455699      0.395591\n",
       "mean_per_class_accuracy  0.652249  0.0546045  0.692222      0.690476      0.5           0.709718      0.668831\n",
       "mean_per_class_error     0.347751  0.0546045  0.307778      0.309524      0.5           0.290282      0.331169\n",
       "mse                      0.188362  0.0132268  0.186126      0.159871      0.182778      0.217523      0.195514\n",
       "precision                0.769521  0.0187687  0.784615      0.814286      0.746032      0.745098      0.757576\n",
       "r2                       0.115386  0.0360115  0.139548      0.187424      0.0353105     0.0892561     0.125394\n",
       "recall                   0.947451  0.0332639  0.944444      1             1             0.883721      0.909091\n",
       "rmse                     0.43347   0.0152653  0.431423      0.399838      0.427526      0.466394      0.442169\n",
       "specificity              0.357048  0.131138   0.44          0.380952      0             0.535714      0.428571"
      ]
     },
     "metadata": {},
     "output_type": "display_data"
    },
    {
     "data": {
      "text/plain": []
     },
     "execution_count": 796,
     "metadata": {},
     "output_type": "execute_result"
    }
   ],
   "source": [
    "rf_v1.cross_validation_metrics_summary()"
   ]
  },
  {
   "cell_type": "code",
   "execution_count": 797,
   "metadata": {
    "collapsed": false
   },
   "outputs": [
    {
     "name": "stdout",
     "output_type": "stream",
     "text": [
      "\n",
      "ModelMetricsBinomial: drf\n",
      "** Reported on test data. **\n",
      "\n",
      "MSE: 0.170453334143\n",
      "RMSE: 0.412859944948\n",
      "LogLoss: 0.520606073037\n",
      "Mean Per-Class Error: 0.217657574153\n",
      "AUC: 0.847540386653\n",
      "Gini: 0.695080773305\n",
      "Confusion Matrix (Act/Pred) for max f1 @ threshold = 0.608545518629: \n"
     ]
    },
    {
     "data": {
      "text/html": [
       "<div style=\"overflow:auto\"><table style=\"width:50%\"><tr><td><b></b></td>\n",
       "<td><b>N</b></td>\n",
       "<td><b>Y</b></td>\n",
       "<td><b>Error</b></td>\n",
       "<td><b>Rate</b></td></tr>\n",
       "<tr><td>N</td>\n",
       "<td>67.0</td>\n",
       "<td>51.0</td>\n",
       "<td>0.4322</td>\n",
       "<td> (51.0/118.0)</td></tr>\n",
       "<tr><td>Y</td>\n",
       "<td>15.0</td>\n",
       "<td>241.0</td>\n",
       "<td>0.0586</td>\n",
       "<td> (15.0/256.0)</td></tr>\n",
       "<tr><td>Total</td>\n",
       "<td>82.0</td>\n",
       "<td>292.0</td>\n",
       "<td>0.1765</td>\n",
       "<td> (66.0/374.0)</td></tr></table></div>"
      ],
      "text/plain": [
       "       N    Y    Error    Rate\n",
       "-----  ---  ---  -------  ------------\n",
       "N      67   51   0.4322   (51.0/118.0)\n",
       "Y      15   241  0.0586   (15.0/256.0)\n",
       "Total  82   292  0.1765   (66.0/374.0)"
      ]
     },
     "metadata": {},
     "output_type": "display_data"
    },
    {
     "name": "stdout",
     "output_type": "stream",
     "text": [
      "Maximum Metrics: Maximum metrics at their respective thresholds\n",
      "\n"
     ]
    },
    {
     "data": {
      "text/html": [
       "<div style=\"overflow:auto\"><table style=\"width:50%\"><tr><td><b>metric</b></td>\n",
       "<td><b>threshold</b></td>\n",
       "<td><b>value</b></td>\n",
       "<td><b>idx</b></td></tr>\n",
       "<tr><td>max f1</td>\n",
       "<td>0.6085455</td>\n",
       "<td>0.8795620</td>\n",
       "<td>71.0</td></tr>\n",
       "<tr><td>max f2</td>\n",
       "<td>0.5901724</td>\n",
       "<td>0.9370370</td>\n",
       "<td>83.0</td></tr>\n",
       "<tr><td>max f0point5</td>\n",
       "<td>0.6688245</td>\n",
       "<td>0.8624620</td>\n",
       "<td>55.0</td></tr>\n",
       "<tr><td>max accuracy</td>\n",
       "<td>0.6398012</td>\n",
       "<td>0.8262032</td>\n",
       "<td>61.0</td></tr>\n",
       "<tr><td>max precision</td>\n",
       "<td>0.8201244</td>\n",
       "<td>1.0</td>\n",
       "<td>0.0</td></tr>\n",
       "<tr><td>max recall</td>\n",
       "<td>0.4907591</td>\n",
       "<td>1.0</td>\n",
       "<td>107.0</td></tr>\n",
       "<tr><td>max specificity</td>\n",
       "<td>0.8201244</td>\n",
       "<td>1.0</td>\n",
       "<td>0.0</td></tr>\n",
       "<tr><td>max absolute_mcc</td>\n",
       "<td>0.6398012</td>\n",
       "<td>0.5848836</td>\n",
       "<td>61.0</td></tr>\n",
       "<tr><td>max min_per_class_accuracy</td>\n",
       "<td>0.7412053</td>\n",
       "<td>0.765625</td>\n",
       "<td>32.0</td></tr>\n",
       "<tr><td>max mean_per_class_accuracy</td>\n",
       "<td>0.6688245</td>\n",
       "<td>0.7823424</td>\n",
       "<td>55.0</td></tr></table></div>"
      ],
      "text/plain": [
       "metric                       threshold    value     idx\n",
       "---------------------------  -----------  --------  -----\n",
       "max f1                       0.608546     0.879562  71\n",
       "max f2                       0.590172     0.937037  83\n",
       "max f0point5                 0.668825     0.862462  55\n",
       "max accuracy                 0.639801     0.826203  61\n",
       "max precision                0.820124     1         0\n",
       "max recall                   0.490759     1         107\n",
       "max specificity              0.820124     1         0\n",
       "max absolute_mcc             0.639801     0.584884  61\n",
       "max min_per_class_accuracy   0.741205     0.765625  32\n",
       "max mean_per_class_accuracy  0.668825     0.782342  55"
      ]
     },
     "metadata": {},
     "output_type": "display_data"
    },
    {
     "name": "stdout",
     "output_type": "stream",
     "text": [
      "Gains/Lift Table: Avg response rate: 68.45 %\n",
      "\n"
     ]
    },
    {
     "data": {
      "text/html": [
       "<div style=\"overflow:auto\"><table style=\"width:50%\"><tr><td><b></b></td>\n",
       "<td><b>group</b></td>\n",
       "<td><b>cumulative_data_fraction</b></td>\n",
       "<td><b>lower_threshold</b></td>\n",
       "<td><b>lift</b></td>\n",
       "<td><b>cumulative_lift</b></td>\n",
       "<td><b>response_rate</b></td>\n",
       "<td><b>cumulative_response_rate</b></td>\n",
       "<td><b>capture_rate</b></td>\n",
       "<td><b>cumulative_capture_rate</b></td>\n",
       "<td><b>gain</b></td>\n",
       "<td><b>cumulative_gain</b></td></tr>\n",
       "<tr><td></td>\n",
       "<td>1</td>\n",
       "<td>0.0213904</td>\n",
       "<td>0.8026389</td>\n",
       "<td>1.4609375</td>\n",
       "<td>1.4609375</td>\n",
       "<td>1.0</td>\n",
       "<td>1.0</td>\n",
       "<td>0.03125</td>\n",
       "<td>0.03125</td>\n",
       "<td>46.09375</td>\n",
       "<td>46.09375</td></tr>\n",
       "<tr><td></td>\n",
       "<td>2</td>\n",
       "<td>0.0213904</td>\n",
       "<td>0.7991030</td>\n",
       "<td>0.0</td>\n",
       "<td>1.4609375</td>\n",
       "<td>0.0</td>\n",
       "<td>1.0</td>\n",
       "<td>0.0</td>\n",
       "<td>0.03125</td>\n",
       "<td>-100.0</td>\n",
       "<td>46.09375</td></tr>\n",
       "<tr><td></td>\n",
       "<td>3</td>\n",
       "<td>0.0374332</td>\n",
       "<td>0.7946967</td>\n",
       "<td>1.4609375</td>\n",
       "<td>1.4609375</td>\n",
       "<td>1.0</td>\n",
       "<td>1.0</td>\n",
       "<td>0.0234375</td>\n",
       "<td>0.0546875</td>\n",
       "<td>46.09375</td>\n",
       "<td>46.09375</td></tr>\n",
       "<tr><td></td>\n",
       "<td>4</td>\n",
       "<td>0.0401070</td>\n",
       "<td>0.7876209</td>\n",
       "<td>1.4609375</td>\n",
       "<td>1.4609375</td>\n",
       "<td>1.0</td>\n",
       "<td>1.0</td>\n",
       "<td>0.0039062</td>\n",
       "<td>0.0585938</td>\n",
       "<td>46.09375</td>\n",
       "<td>46.09375</td></tr>\n",
       "<tr><td></td>\n",
       "<td>5</td>\n",
       "<td>0.0668449</td>\n",
       "<td>0.7847977</td>\n",
       "<td>1.4609375</td>\n",
       "<td>1.4609375</td>\n",
       "<td>1.0</td>\n",
       "<td>1.0</td>\n",
       "<td>0.0390625</td>\n",
       "<td>0.0976562</td>\n",
       "<td>46.09375</td>\n",
       "<td>46.09375</td></tr>\n",
       "<tr><td></td>\n",
       "<td>6</td>\n",
       "<td>0.1203209</td>\n",
       "<td>0.7753758</td>\n",
       "<td>1.2417969</td>\n",
       "<td>1.3635417</td>\n",
       "<td>0.85</td>\n",
       "<td>0.9333333</td>\n",
       "<td>0.0664062</td>\n",
       "<td>0.1640625</td>\n",
       "<td>24.1796875</td>\n",
       "<td>36.3541667</td></tr>\n",
       "<tr><td></td>\n",
       "<td>7</td>\n",
       "<td>0.1604278</td>\n",
       "<td>0.7672625</td>\n",
       "<td>1.3635417</td>\n",
       "<td>1.3635417</td>\n",
       "<td>0.9333333</td>\n",
       "<td>0.9333333</td>\n",
       "<td>0.0546875</td>\n",
       "<td>0.21875</td>\n",
       "<td>36.3541667</td>\n",
       "<td>36.3541667</td></tr>\n",
       "<tr><td></td>\n",
       "<td>8</td>\n",
       "<td>0.2192513</td>\n",
       "<td>0.7670857</td>\n",
       "<td>1.328125</td>\n",
       "<td>1.3540396</td>\n",
       "<td>0.9090909</td>\n",
       "<td>0.9268293</td>\n",
       "<td>0.078125</td>\n",
       "<td>0.296875</td>\n",
       "<td>32.8125</td>\n",
       "<td>35.4039634</td></tr>\n",
       "<tr><td></td>\n",
       "<td>9</td>\n",
       "<td>0.3021390</td>\n",
       "<td>0.7592017</td>\n",
       "<td>1.3666835</td>\n",
       "<td>1.3575083</td>\n",
       "<td>0.9354839</td>\n",
       "<td>0.9292035</td>\n",
       "<td>0.1132812</td>\n",
       "<td>0.4101562</td>\n",
       "<td>36.6683468</td>\n",
       "<td>35.7508296</td></tr>\n",
       "<tr><td></td>\n",
       "<td>10</td>\n",
       "<td>0.4786096</td>\n",
       "<td>0.7563036</td>\n",
       "<td>1.2617188</td>\n",
       "<td>1.3221892</td>\n",
       "<td>0.8636364</td>\n",
       "<td>0.9050279</td>\n",
       "<td>0.2226562</td>\n",
       "<td>0.6328125</td>\n",
       "<td>26.171875</td>\n",
       "<td>32.2189246</td></tr>\n",
       "<tr><td></td>\n",
       "<td>11</td>\n",
       "<td>0.5748663</td>\n",
       "<td>0.7467315</td>\n",
       "<td>1.0551215</td>\n",
       "<td>1.2774709</td>\n",
       "<td>0.7222222</td>\n",
       "<td>0.8744186</td>\n",
       "<td>0.1015625</td>\n",
       "<td>0.734375</td>\n",
       "<td>5.5121528</td>\n",
       "<td>27.7470930</td></tr>\n",
       "<tr><td></td>\n",
       "<td>12</td>\n",
       "<td>0.6149733</td>\n",
       "<td>0.7366170</td>\n",
       "<td>1.0713542</td>\n",
       "<td>1.2640285</td>\n",
       "<td>0.7333333</td>\n",
       "<td>0.8652174</td>\n",
       "<td>0.0429688</td>\n",
       "<td>0.7773438</td>\n",
       "<td>7.1354167</td>\n",
       "<td>26.4028533</td></tr>\n",
       "<tr><td></td>\n",
       "<td>13</td>\n",
       "<td>0.7005348</td>\n",
       "<td>0.6890580</td>\n",
       "<td>1.1413574</td>\n",
       "<td>1.2490458</td>\n",
       "<td>0.78125</td>\n",
       "<td>0.8549618</td>\n",
       "<td>0.0976562</td>\n",
       "<td>0.875</td>\n",
       "<td>14.1357422</td>\n",
       "<td>24.9045802</td></tr>\n",
       "<tr><td></td>\n",
       "<td>14</td>\n",
       "<td>0.7994652</td>\n",
       "<td>0.6084183</td>\n",
       "<td>0.7107264</td>\n",
       "<td>1.1824310</td>\n",
       "<td>0.4864865</td>\n",
       "<td>0.8093645</td>\n",
       "<td>0.0703125</td>\n",
       "<td>0.9453125</td>\n",
       "<td>-28.9273649</td>\n",
       "<td>18.2431020</td></tr>\n",
       "<tr><td></td>\n",
       "<td>15</td>\n",
       "<td>0.8983957</td>\n",
       "<td>0.5490149</td>\n",
       "<td>0.4738176</td>\n",
       "<td>1.1043992</td>\n",
       "<td>0.3243243</td>\n",
       "<td>0.7559524</td>\n",
       "<td>0.046875</td>\n",
       "<td>0.9921875</td>\n",
       "<td>-52.6182432</td>\n",
       "<td>10.4399182</td></tr>\n",
       "<tr><td></td>\n",
       "<td>16</td>\n",
       "<td>1.0</td>\n",
       "<td>0.3121870</td>\n",
       "<td>0.0768914</td>\n",
       "<td>1.0</td>\n",
       "<td>0.0526316</td>\n",
       "<td>0.6844920</td>\n",
       "<td>0.0078125</td>\n",
       "<td>1.0</td>\n",
       "<td>-92.3108553</td>\n",
       "<td>0.0</td></tr></table></div>"
      ],
      "text/plain": [
       "    group    cumulative_data_fraction    lower_threshold    lift       cumulative_lift    response_rate    cumulative_response_rate    capture_rate    cumulative_capture_rate    gain      cumulative_gain\n",
       "--  -------  --------------------------  -----------------  ---------  -----------------  ---------------  --------------------------  --------------  -------------------------  --------  -----------------\n",
       "    1        0.0213904                   0.802639           1.46094    1.46094            1                1                           0.03125         0.03125                    46.0938   46.0938\n",
       "    2        0.0213904                   0.799103           0          1.46094            0                1                           0               0.03125                    -100      46.0938\n",
       "    3        0.0374332                   0.794697           1.46094    1.46094            1                1                           0.0234375       0.0546875                  46.0938   46.0938\n",
       "    4        0.040107                    0.787621           1.46094    1.46094            1                1                           0.00390625      0.0585938                  46.0938   46.0938\n",
       "    5        0.0668449                   0.784798           1.46094    1.46094            1                1                           0.0390625       0.0976562                  46.0938   46.0938\n",
       "    6        0.120321                    0.775376           1.2418     1.36354            0.85             0.933333                    0.0664062       0.164062                   24.1797   36.3542\n",
       "    7        0.160428                    0.767262           1.36354    1.36354            0.933333         0.933333                    0.0546875       0.21875                    36.3542   36.3542\n",
       "    8        0.219251                    0.767086           1.32812    1.35404            0.909091         0.926829                    0.078125        0.296875                   32.8125   35.404\n",
       "    9        0.302139                    0.759202           1.36668    1.35751            0.935484         0.929204                    0.113281        0.410156                   36.6683   35.7508\n",
       "    10       0.47861                     0.756304           1.26172    1.32219            0.863636         0.905028                    0.222656        0.632812                   26.1719   32.2189\n",
       "    11       0.574866                    0.746731           1.05512    1.27747            0.722222         0.874419                    0.101562        0.734375                   5.51215   27.7471\n",
       "    12       0.614973                    0.736617           1.07135    1.26403            0.733333         0.865217                    0.0429688       0.777344                   7.13542   26.4029\n",
       "    13       0.700535                    0.689058           1.14136    1.24905            0.78125          0.854962                    0.0976562       0.875                      14.1357   24.9046\n",
       "    14       0.799465                    0.608418           0.710726   1.18243            0.486486         0.809365                    0.0703125       0.945312                   -28.9274  18.2431\n",
       "    15       0.898396                    0.549015           0.473818   1.1044             0.324324         0.755952                    0.046875        0.992188                   -52.6182  10.4399\n",
       "    16       1                           0.312187           0.0768914  1                  0.0526316        0.684492                    0.0078125       1                          -92.3109  0"
      ]
     },
     "metadata": {},
     "output_type": "display_data"
    },
    {
     "name": "stdout",
     "output_type": "stream",
     "text": [
      "\n"
     ]
    },
    {
     "data": {
      "text/plain": []
     },
     "execution_count": 797,
     "metadata": {},
     "output_type": "execute_result"
    }
   ],
   "source": [
    "rf_v1.model_performance(trainl)"
   ]
  },
  {
   "cell_type": "markdown",
   "metadata": {
    "collapsed": false
   },
   "source": [
    "# Prediction"
   ]
  },
  {
   "cell_type": "code",
   "execution_count": 798,
   "metadata": {
    "collapsed": false
   },
   "outputs": [
    {
     "name": "stdout",
     "output_type": "stream",
     "text": [
      "drf Model Build progress: |███████████████████████████████████████████████| 100%\n"
     ]
    }
   ],
   "source": [
    "X = train_df.col_names[:-1]     #last column is the response variable \n",
    "y = train_df.col_names[-1] \n",
    "rf_v1.train(X, y, training_frame=train_df)"
   ]
  },
  {
   "cell_type": "code",
   "execution_count": 799,
   "metadata": {
    "collapsed": false
   },
   "outputs": [
    {
     "name": "stdout",
     "output_type": "stream",
     "text": [
      "drf prediction progress: |████████████████████████████████████████████████| 100%\n"
     ]
    }
   ],
   "source": [
    "prediction_default  = rf_v1.predict(test_df)\n",
    "\n",
    "prediction_default.names=[\"Loan_Status\", \"dumy1\",\"dumy2\"]"
   ]
  },
  {
   "cell_type": "code",
   "execution_count": 800,
   "metadata": {
    "collapsed": false
   },
   "outputs": [],
   "source": [
    "submitfile_h2o = test_df[['Loan_ID']]\n",
    "\n"
   ]
  },
  {
   "cell_type": "code",
   "execution_count": 801,
   "metadata": {
    "collapsed": false
   },
   "outputs": [],
   "source": [
    "submitfile_h2o=submitfile_h2o.cbind(prediction_default[[\"Loan_Status\"]])\n",
    "\n"
   ]
  },
  {
   "cell_type": "code",
   "execution_count": 802,
   "metadata": {
    "collapsed": true
   },
   "outputs": [],
   "source": [
    "submitfile_h2o=submitfile_h2o.as_data_frame(use_pandas=True)"
   ]
  },
  {
   "cell_type": "code",
   "execution_count": 803,
   "metadata": {
    "collapsed": false
   },
   "outputs": [],
   "source": [
    "submitfile_h2o.to_csv(\"submissionh2o.csv\", index=False)"
   ]
  },
  {
   "cell_type": "code",
   "execution_count": 804,
   "metadata": {
    "collapsed": true
   },
   "outputs": [],
   "source": [
    "#h2o.shutdown()"
   ]
  }
 ],
 "metadata": {
  "kernelspec": {
   "display_name": "Python 2",
   "language": "python",
   "name": "python2"
  },
  "language_info": {
   "codemirror_mode": {
    "name": "ipython",
    "version": 2
   },
   "file_extension": ".py",
   "mimetype": "text/x-python",
   "name": "python",
   "nbconvert_exporter": "python",
   "pygments_lexer": "ipython2",
   "version": "2.7.13"
  }
 },
 "nbformat": 4,
 "nbformat_minor": 2
}

{
 "cells": [
  {
   "cell_type": "markdown",
   "metadata": {},
   "source": [
    "\n",
    "# H2O Solution for ML challenge:\n",
    "https://www.hackerearth.com/challenge/competitive/machine-learning-challenge-one/\n",
    "\n",
    "original dataset:\n",
    "https://www.hackerearth.com/problem/machine-learning/bank-fears-loanliness/\n",
    "\n",
    "This file uses the .csv file of transformed data output by file `RF_loan_default_prob.ipynb`"
   ]
  },
  {
   "cell_type": "code",
   "execution_count": 23,
   "metadata": {
    "collapsed": false
   },
   "outputs": [],
   "source": [
    "import h2o\n",
    "import os\n",
    "import numpy as np\n",
    "from sklearn import metrics\n",
    "from h2o.estimators.random_forest import H2ORandomForestEstimator"
   ]
  },
  {
   "cell_type": "code",
   "execution_count": 3,
   "metadata": {
    "collapsed": false
   },
   "outputs": [
    {
     "name": "stdout",
     "output_type": "stream",
     "text": [
      "Checking whether there is an H2O instance running at http://localhost:54321..... not found.\n",
      "Attempting to start a local H2O server...\n",
      "  Java Version: openjdk version \"1.8.0_121\"; OpenJDK Runtime Environment (build 1.8.0_121-8u121-b13-0ubuntu1.16.10.2-b13); OpenJDK 64-Bit Server VM (build 25.121-b13, mixed mode)\n",
      "  Starting server from /media/badicst/875664ae-1937-4e8e-a7f3-43b9b3e28b21/anaconda3/envs/ipykernel_py2/h2o_jar/h2o.jar\n",
      "  Ice root: /tmp/tmp9RjfEe\n",
      "  JVM stdout: /tmp/tmp9RjfEe/h2o_badicst_started_from_python.out\n",
      "  JVM stderr: /tmp/tmp9RjfEe/h2o_badicst_started_from_python.err\n",
      "  Server is running at http://127.0.0.1:54321\n",
      "Connecting to H2O server at http://127.0.0.1:54321... successful.\n",
      "Warning: Your H2O cluster version is too old (5 months and 5 days)! Please download and install the latest version from http://h2o.ai/download/\n"
     ]
    },
    {
     "data": {
      "text/html": [
       "<div style=\"overflow:auto\"><table style=\"width:50%\"><tr><td>H2O cluster uptime:</td>\n",
       "<td>05 secs</td></tr>\n",
       "<tr><td>H2O cluster version:</td>\n",
       "<td>3.10.0.9</td></tr>\n",
       "<tr><td>H2O cluster version age:</td>\n",
       "<td>5 months and 5 days !!!</td></tr>\n",
       "<tr><td>H2O cluster name:</td>\n",
       "<td>H2O_from_python_badicst_5vl5wt</td></tr>\n",
       "<tr><td>H2O cluster total nodes:</td>\n",
       "<td>1</td></tr>\n",
       "<tr><td>H2O cluster free memory:</td>\n",
       "<td>1.778 Gb</td></tr>\n",
       "<tr><td>H2O cluster total cores:</td>\n",
       "<td>4</td></tr>\n",
       "<tr><td>H2O cluster allowed cores:</td>\n",
       "<td>4</td></tr>\n",
       "<tr><td>H2O cluster status:</td>\n",
       "<td>accepting new members, healthy</td></tr>\n",
       "<tr><td>H2O connection url:</td>\n",
       "<td>http://127.0.0.1:54321</td></tr>\n",
       "<tr><td>H2O connection proxy:</td>\n",
       "<td>None</td></tr>\n",
       "<tr><td>Python version:</td>\n",
       "<td>2.7.13 final</td></tr></table></div>"
      ],
      "text/plain": [
       "--------------------------  ------------------------------\n",
       "H2O cluster uptime:         05 secs\n",
       "H2O cluster version:        3.10.0.9\n",
       "H2O cluster version age:    5 months and 5 days !!!\n",
       "H2O cluster name:           H2O_from_python_badicst_5vl5wt\n",
       "H2O cluster total nodes:    1\n",
       "H2O cluster free memory:    1.778 Gb\n",
       "H2O cluster total cores:    4\n",
       "H2O cluster allowed cores:  4\n",
       "H2O cluster status:         accepting new members, healthy\n",
       "H2O connection url:         http://127.0.0.1:54321\n",
       "H2O connection proxy:\n",
       "Python version:             2.7.13 final\n",
       "--------------------------  ------------------------------"
      ]
     },
     "metadata": {},
     "output_type": "display_data"
    }
   ],
   "source": [
    "h2o.init(max_mem_size = \"2G\")"
   ]
  },
  {
   "cell_type": "code",
   "execution_count": 4,
   "metadata": {
    "collapsed": true
   },
   "outputs": [],
   "source": [
    "h2o.remove_all()"
   ]
  },
  {
   "cell_type": "code",
   "execution_count": 5,
   "metadata": {
    "collapsed": true
   },
   "outputs": [],
   "source": []
  },
  {
   "cell_type": "code",
   "execution_count": 6,
   "metadata": {
    "collapsed": false
   },
   "outputs": [
    {
     "name": "stdout",
     "output_type": "stream",
     "text": [
      "Parse progress: |█████████████████████████████████████████████████████████| 100%\n",
      "Parse progress: |█████████████████████████████████████████████████████████| 100%\n"
     ]
    }
   ],
   "source": [
    "train_df = h2o.import_file(os.path.realpath('data_transformed.csv'))\n",
    "test_df = h2o.import_file(os.path.realpath('test_transformed.csv'))"
   ]
  },
  {
   "cell_type": "code",
   "execution_count": 9,
   "metadata": {
    "collapsed": false
   },
   "outputs": [],
   "source": [
    "trainl, validl, testl = train_df.split_frame([0.6, 0.2], seed=1234)"
   ]
  },
  {
   "cell_type": "code",
   "execution_count": 10,
   "metadata": {
    "collapsed": true
   },
   "outputs": [],
   "source": [
    "X = trainl.col_names[:-1]     #last column is the response variable \n",
    "y = trainl.col_names[-1] "
   ]
  },
  {
   "cell_type": "code",
   "execution_count": 22,
   "metadata": {
    "collapsed": false
   },
   "outputs": [],
   "source": [
    "#help(H2ORandomForestEstimator)"
   ]
  },
  {
   "cell_type": "code",
   "execution_count": 12,
   "metadata": {
    "collapsed": false
   },
   "outputs": [],
   "source": [
    "from enum import Enum\n",
    "rf_v1 = H2ORandomForestEstimator(\n",
    "    model_id=\"rf_covType_v1\",\n",
    "    balance_classes=True,\n",
    "    max_depth=20,\n",
    "    ntrees=1000,\n",
    "    stopping_rounds=2,\n",
    "    stopping_tolerance=0.001,\n",
    "    score_each_iteration=True,\n",
    "    seed=1000000)"
   ]
  },
  {
   "cell_type": "code",
   "execution_count": 13,
   "metadata": {
    "collapsed": false
   },
   "outputs": [],
   "source": [
    "\n",
    "X = trainl.col_names[:-1]     #last column is the response variable \n",
    "y = trainl.col_names[-1] "
   ]
  },
  {
   "cell_type": "code",
   "execution_count": 11,
   "metadata": {
    "collapsed": false
   },
   "outputs": [],
   "source": [
    "#help(rf_v1.train)"
   ]
  },
  {
   "cell_type": "markdown",
   "metadata": {},
   "source": [
    "# Training the model"
   ]
  },
  {
   "cell_type": "code",
   "execution_count": 14,
   "metadata": {
    "collapsed": false
   },
   "outputs": [
    {
     "name": "stdout",
     "output_type": "stream",
     "text": [
      "drf Model Build progress: |███████████████████████████████████████████████| 100%\n"
     ]
    }
   ],
   "source": [
    "rf_v1.train(X, y, training_frame=trainl, validation_frame=validl)"
   ]
  },
  {
   "cell_type": "markdown",
   "metadata": {},
   "source": [
    "# Prediction"
   ]
  },
  {
   "cell_type": "code",
   "execution_count": 15,
   "metadata": {
    "collapsed": false
   },
   "outputs": [
    {
     "name": "stdout",
     "output_type": "stream",
     "text": [
      "drf prediction progress: |████████████████████████████████████████████████| 100%\n"
     ]
    }
   ],
   "source": [
    "prediction_default  = rf_v1.predict(test_df)"
   ]
  },
  {
   "cell_type": "code",
   "execution_count": 16,
   "metadata": {
    "collapsed": true
   },
   "outputs": [],
   "source": [
    "prediction_default=prediction_default+0.0000001\n",
    "\n",
    "submitfile_h2o=test_df[['member_id']]\n",
    "\n",
    "submitfile_h2o['loan_status']=prediction_default\n",
    "\n",
    "submitfile_h2o=submitfile_h2o.as_data_frame(True)\n",
    "\n",
    "submitfile_h2o[\"loan_status\"]=submitfile_h2o[\"loan_status\"]/1.1"
   ]
  },
  {
   "cell_type": "code",
   "execution_count": 17,
   "metadata": {
    "collapsed": false
   },
   "outputs": [],
   "source": [
    "submitfile_h2o.to_csv(\"submissionh2o2.csv\", index=False)"
   ]
  },
  {
   "cell_type": "code",
   "execution_count": null,
   "metadata": {
    "collapsed": false
   },
   "outputs": [],
   "source": [
    "#help(rf_v1.predict)"
   ]
  },
  {
   "cell_type": "code",
   "execution_count": 18,
   "metadata": {
    "collapsed": false
   },
   "outputs": [
    {
     "name": "stderr",
     "output_type": "stream",
     "text": [
      "/media/badicst/875664ae-1937-4e8e-a7f3-43b9b3e28b21/anaconda3/envs/ipykernel_py2/lib/python2.7/site-packages/ipykernel/__main__.py:1: DeprecationWarning: `score_history` is deprecated. Use `scoring_history`\n",
      "  if __name__ == '__main__':\n"
     ]
    },
    {
     "data": {
      "text/html": [
       "<div>\n",
       "<table border=\"1\" class=\"dataframe\">\n",
       "  <thead>\n",
       "    <tr style=\"text-align: right;\">\n",
       "      <th></th>\n",
       "      <th></th>\n",
       "      <th>timestamp</th>\n",
       "      <th>duration</th>\n",
       "      <th>number_of_trees</th>\n",
       "      <th>training_rmse</th>\n",
       "      <th>training_mae</th>\n",
       "      <th>training_deviance</th>\n",
       "      <th>validation_rmse</th>\n",
       "      <th>validation_mae</th>\n",
       "      <th>validation_deviance</th>\n",
       "    </tr>\n",
       "  </thead>\n",
       "  <tbody>\n",
       "    <tr>\n",
       "      <th>0</th>\n",
       "      <td></td>\n",
       "      <td>2017-04-08 16:39:48</td>\n",
       "      <td>0.043 sec</td>\n",
       "      <td>0.0</td>\n",
       "      <td>NaN</td>\n",
       "      <td>NaN</td>\n",
       "      <td>NaN</td>\n",
       "      <td>NaN</td>\n",
       "      <td>NaN</td>\n",
       "      <td>NaN</td>\n",
       "    </tr>\n",
       "    <tr>\n",
       "      <th>1</th>\n",
       "      <td></td>\n",
       "      <td>2017-04-08 16:40:00</td>\n",
       "      <td>11.341 sec</td>\n",
       "      <td>1.0</td>\n",
       "      <td>0.390571</td>\n",
       "      <td>0.152595</td>\n",
       "      <td>0.152546</td>\n",
       "      <td>0.392444</td>\n",
       "      <td>0.154074</td>\n",
       "      <td>0.154012</td>\n",
       "    </tr>\n",
       "    <tr>\n",
       "      <th>2</th>\n",
       "      <td></td>\n",
       "      <td>2017-04-08 16:40:09</td>\n",
       "      <td>20.952 sec</td>\n",
       "      <td>2.0</td>\n",
       "      <td>0.375937</td>\n",
       "      <td>0.151009</td>\n",
       "      <td>0.141329</td>\n",
       "      <td>0.331336</td>\n",
       "      <td>0.152182</td>\n",
       "      <td>0.109784</td>\n",
       "    </tr>\n",
       "    <tr>\n",
       "      <th>3</th>\n",
       "      <td></td>\n",
       "      <td>2017-04-08 16:40:18</td>\n",
       "      <td>29.529 sec</td>\n",
       "      <td>3.0</td>\n",
       "      <td>0.365292</td>\n",
       "      <td>0.151975</td>\n",
       "      <td>0.133438</td>\n",
       "      <td>0.309828</td>\n",
       "      <td>0.152681</td>\n",
       "      <td>0.095993</td>\n",
       "    </tr>\n",
       "    <tr>\n",
       "      <th>4</th>\n",
       "      <td></td>\n",
       "      <td>2017-04-08 16:40:26</td>\n",
       "      <td>37.658 sec</td>\n",
       "      <td>4.0</td>\n",
       "      <td>0.357726</td>\n",
       "      <td>0.154569</td>\n",
       "      <td>0.127968</td>\n",
       "      <td>0.300345</td>\n",
       "      <td>0.155194</td>\n",
       "      <td>0.090207</td>\n",
       "    </tr>\n",
       "    <tr>\n",
       "      <th>5</th>\n",
       "      <td></td>\n",
       "      <td>2017-04-08 16:40:35</td>\n",
       "      <td>46.328 sec</td>\n",
       "      <td>5.0</td>\n",
       "      <td>0.349219</td>\n",
       "      <td>0.156166</td>\n",
       "      <td>0.121954</td>\n",
       "      <td>0.294845</td>\n",
       "      <td>0.157087</td>\n",
       "      <td>0.086933</td>\n",
       "    </tr>\n",
       "    <tr>\n",
       "      <th>6</th>\n",
       "      <td></td>\n",
       "      <td>2017-04-08 16:40:44</td>\n",
       "      <td>55.197 sec</td>\n",
       "      <td>6.0</td>\n",
       "      <td>0.341384</td>\n",
       "      <td>0.157884</td>\n",
       "      <td>0.116543</td>\n",
       "      <td>0.291058</td>\n",
       "      <td>0.158801</td>\n",
       "      <td>0.084715</td>\n",
       "    </tr>\n",
       "    <tr>\n",
       "      <th>7</th>\n",
       "      <td></td>\n",
       "      <td>2017-04-08 16:40:54</td>\n",
       "      <td>1 min  5.263 sec</td>\n",
       "      <td>7.0</td>\n",
       "      <td>0.333233</td>\n",
       "      <td>0.158115</td>\n",
       "      <td>0.111044</td>\n",
       "      <td>0.287651</td>\n",
       "      <td>0.159113</td>\n",
       "      <td>0.082743</td>\n",
       "    </tr>\n",
       "    <tr>\n",
       "      <th>8</th>\n",
       "      <td></td>\n",
       "      <td>2017-04-08 16:41:02</td>\n",
       "      <td>1 min 13.923 sec</td>\n",
       "      <td>8.0</td>\n",
       "      <td>0.326305</td>\n",
       "      <td>0.158392</td>\n",
       "      <td>0.106475</td>\n",
       "      <td>0.285003</td>\n",
       "      <td>0.159243</td>\n",
       "      <td>0.081227</td>\n",
       "    </tr>\n",
       "    <tr>\n",
       "      <th>9</th>\n",
       "      <td></td>\n",
       "      <td>2017-04-08 16:41:12</td>\n",
       "      <td>1 min 23.293 sec</td>\n",
       "      <td>9.0</td>\n",
       "      <td>0.319536</td>\n",
       "      <td>0.157774</td>\n",
       "      <td>0.102104</td>\n",
       "      <td>0.282292</td>\n",
       "      <td>0.158418</td>\n",
       "      <td>0.079689</td>\n",
       "    </tr>\n",
       "    <tr>\n",
       "      <th>10</th>\n",
       "      <td></td>\n",
       "      <td>2017-04-08 16:41:21</td>\n",
       "      <td>1 min 32.299 sec</td>\n",
       "      <td>10.0</td>\n",
       "      <td>0.314566</td>\n",
       "      <td>0.158265</td>\n",
       "      <td>0.098952</td>\n",
       "      <td>0.281012</td>\n",
       "      <td>0.158861</td>\n",
       "      <td>0.078968</td>\n",
       "    </tr>\n",
       "    <tr>\n",
       "      <th>11</th>\n",
       "      <td></td>\n",
       "      <td>2017-04-08 16:41:29</td>\n",
       "      <td>1 min 40.633 sec</td>\n",
       "      <td>11.0</td>\n",
       "      <td>0.310575</td>\n",
       "      <td>0.158772</td>\n",
       "      <td>0.096457</td>\n",
       "      <td>0.280036</td>\n",
       "      <td>0.159437</td>\n",
       "      <td>0.078420</td>\n",
       "    </tr>\n",
       "    <tr>\n",
       "      <th>12</th>\n",
       "      <td></td>\n",
       "      <td>2017-04-08 16:41:37</td>\n",
       "      <td>1 min 48.803 sec</td>\n",
       "      <td>12.0</td>\n",
       "      <td>0.306754</td>\n",
       "      <td>0.159011</td>\n",
       "      <td>0.094098</td>\n",
       "      <td>0.279049</td>\n",
       "      <td>0.159535</td>\n",
       "      <td>0.077868</td>\n",
       "    </tr>\n",
       "    <tr>\n",
       "      <th>13</th>\n",
       "      <td></td>\n",
       "      <td>2017-04-08 16:41:47</td>\n",
       "      <td>1 min 58.365 sec</td>\n",
       "      <td>13.0</td>\n",
       "      <td>0.303905</td>\n",
       "      <td>0.159759</td>\n",
       "      <td>0.092358</td>\n",
       "      <td>0.278483</td>\n",
       "      <td>0.160292</td>\n",
       "      <td>0.077553</td>\n",
       "    </tr>\n",
       "    <tr>\n",
       "      <th>14</th>\n",
       "      <td></td>\n",
       "      <td>2017-04-08 16:41:57</td>\n",
       "      <td>2 min  8.729 sec</td>\n",
       "      <td>14.0</td>\n",
       "      <td>0.300784</td>\n",
       "      <td>0.159686</td>\n",
       "      <td>0.090471</td>\n",
       "      <td>0.277530</td>\n",
       "      <td>0.160140</td>\n",
       "      <td>0.077023</td>\n",
       "    </tr>\n",
       "    <tr>\n",
       "      <th>15</th>\n",
       "      <td></td>\n",
       "      <td>2017-04-08 16:42:06</td>\n",
       "      <td>2 min 17.597 sec</td>\n",
       "      <td>15.0</td>\n",
       "      <td>0.297916</td>\n",
       "      <td>0.159515</td>\n",
       "      <td>0.088754</td>\n",
       "      <td>0.276723</td>\n",
       "      <td>0.159984</td>\n",
       "      <td>0.076575</td>\n",
       "    </tr>\n",
       "    <tr>\n",
       "      <th>16</th>\n",
       "      <td></td>\n",
       "      <td>2017-04-08 16:42:15</td>\n",
       "      <td>2 min 26.811 sec</td>\n",
       "      <td>16.0</td>\n",
       "      <td>0.295536</td>\n",
       "      <td>0.159398</td>\n",
       "      <td>0.087341</td>\n",
       "      <td>0.275809</td>\n",
       "      <td>0.159743</td>\n",
       "      <td>0.076071</td>\n",
       "    </tr>\n",
       "    <tr>\n",
       "      <th>17</th>\n",
       "      <td></td>\n",
       "      <td>2017-04-08 16:42:24</td>\n",
       "      <td>2 min 35.966 sec</td>\n",
       "      <td>17.0</td>\n",
       "      <td>0.293470</td>\n",
       "      <td>0.159358</td>\n",
       "      <td>0.086125</td>\n",
       "      <td>0.275240</td>\n",
       "      <td>0.159768</td>\n",
       "      <td>0.075757</td>\n",
       "    </tr>\n",
       "    <tr>\n",
       "      <th>18</th>\n",
       "      <td></td>\n",
       "      <td>2017-04-08 16:42:34</td>\n",
       "      <td>2 min 45.404 sec</td>\n",
       "      <td>18.0</td>\n",
       "      <td>0.291646</td>\n",
       "      <td>0.159265</td>\n",
       "      <td>0.085058</td>\n",
       "      <td>0.274660</td>\n",
       "      <td>0.159706</td>\n",
       "      <td>0.075438</td>\n",
       "    </tr>\n",
       "    <tr>\n",
       "      <th>19</th>\n",
       "      <td></td>\n",
       "      <td>2017-04-08 16:42:43</td>\n",
       "      <td>2 min 54.827 sec</td>\n",
       "      <td>19.0</td>\n",
       "      <td>0.290414</td>\n",
       "      <td>0.159656</td>\n",
       "      <td>0.084340</td>\n",
       "      <td>0.274318</td>\n",
       "      <td>0.160010</td>\n",
       "      <td>0.075250</td>\n",
       "    </tr>\n",
       "    <tr>\n",
       "      <th>20</th>\n",
       "      <td></td>\n",
       "      <td>2017-04-08 16:42:53</td>\n",
       "      <td>3 min  4.126 sec</td>\n",
       "      <td>20.0</td>\n",
       "      <td>0.289261</td>\n",
       "      <td>0.159982</td>\n",
       "      <td>0.083672</td>\n",
       "      <td>0.274082</td>\n",
       "      <td>0.160276</td>\n",
       "      <td>0.075121</td>\n",
       "    </tr>\n",
       "    <tr>\n",
       "      <th>21</th>\n",
       "      <td></td>\n",
       "      <td>2017-04-08 16:43:02</td>\n",
       "      <td>3 min 13.418 sec</td>\n",
       "      <td>21.0</td>\n",
       "      <td>0.288234</td>\n",
       "      <td>0.160227</td>\n",
       "      <td>0.083079</td>\n",
       "      <td>0.273852</td>\n",
       "      <td>0.160522</td>\n",
       "      <td>0.074995</td>\n",
       "    </tr>\n",
       "    <tr>\n",
       "      <th>22</th>\n",
       "      <td></td>\n",
       "      <td>2017-04-08 16:43:11</td>\n",
       "      <td>3 min 23.078 sec</td>\n",
       "      <td>22.0</td>\n",
       "      <td>0.287465</td>\n",
       "      <td>0.160568</td>\n",
       "      <td>0.082636</td>\n",
       "      <td>0.273699</td>\n",
       "      <td>0.160832</td>\n",
       "      <td>0.074911</td>\n",
       "    </tr>\n",
       "    <tr>\n",
       "      <th>23</th>\n",
       "      <td></td>\n",
       "      <td>2017-04-08 16:43:21</td>\n",
       "      <td>3 min 32.718 sec</td>\n",
       "      <td>23.0</td>\n",
       "      <td>0.286571</td>\n",
       "      <td>0.160782</td>\n",
       "      <td>0.082123</td>\n",
       "      <td>0.273484</td>\n",
       "      <td>0.161076</td>\n",
       "      <td>0.074794</td>\n",
       "    </tr>\n",
       "    <tr>\n",
       "      <th>24</th>\n",
       "      <td></td>\n",
       "      <td>2017-04-08 16:43:30</td>\n",
       "      <td>3 min 42.032 sec</td>\n",
       "      <td>24.0</td>\n",
       "      <td>0.285812</td>\n",
       "      <td>0.160998</td>\n",
       "      <td>0.081689</td>\n",
       "      <td>0.273366</td>\n",
       "      <td>0.161232</td>\n",
       "      <td>0.074729</td>\n",
       "    </tr>\n",
       "    <tr>\n",
       "      <th>25</th>\n",
       "      <td></td>\n",
       "      <td>2017-04-08 16:43:41</td>\n",
       "      <td>3 min 52.113 sec</td>\n",
       "      <td>25.0</td>\n",
       "      <td>0.285170</td>\n",
       "      <td>0.161301</td>\n",
       "      <td>0.081322</td>\n",
       "      <td>0.273273</td>\n",
       "      <td>0.161500</td>\n",
       "      <td>0.074678</td>\n",
       "    </tr>\n",
       "    <tr>\n",
       "      <th>26</th>\n",
       "      <td></td>\n",
       "      <td>2017-04-08 16:43:50</td>\n",
       "      <td>4 min  1.911 sec</td>\n",
       "      <td>26.0</td>\n",
       "      <td>0.284550</td>\n",
       "      <td>0.161431</td>\n",
       "      <td>0.080968</td>\n",
       "      <td>0.273127</td>\n",
       "      <td>0.161606</td>\n",
       "      <td>0.074598</td>\n",
       "    </tr>\n",
       "    <tr>\n",
       "      <th>27</th>\n",
       "      <td></td>\n",
       "      <td>2017-04-08 16:44:00</td>\n",
       "      <td>4 min 11.722 sec</td>\n",
       "      <td>27.0</td>\n",
       "      <td>0.283967</td>\n",
       "      <td>0.161650</td>\n",
       "      <td>0.080637</td>\n",
       "      <td>0.272956</td>\n",
       "      <td>0.161821</td>\n",
       "      <td>0.074505</td>\n",
       "    </tr>\n",
       "    <tr>\n",
       "      <th>28</th>\n",
       "      <td></td>\n",
       "      <td>2017-04-08 16:44:10</td>\n",
       "      <td>4 min 21.306 sec</td>\n",
       "      <td>28.0</td>\n",
       "      <td>0.283186</td>\n",
       "      <td>0.161553</td>\n",
       "      <td>0.080194</td>\n",
       "      <td>0.272574</td>\n",
       "      <td>0.161705</td>\n",
       "      <td>0.074297</td>\n",
       "    </tr>\n",
       "    <tr>\n",
       "      <th>29</th>\n",
       "      <td></td>\n",
       "      <td>2017-04-08 16:44:19</td>\n",
       "      <td>4 min 30.236 sec</td>\n",
       "      <td>29.0</td>\n",
       "      <td>0.282585</td>\n",
       "      <td>0.161581</td>\n",
       "      <td>0.079854</td>\n",
       "      <td>0.272483</td>\n",
       "      <td>0.161741</td>\n",
       "      <td>0.074247</td>\n",
       "    </tr>\n",
       "    <tr>\n",
       "      <th>30</th>\n",
       "      <td></td>\n",
       "      <td>2017-04-08 16:44:28</td>\n",
       "      <td>4 min 39.708 sec</td>\n",
       "      <td>30.0</td>\n",
       "      <td>0.282328</td>\n",
       "      <td>0.161946</td>\n",
       "      <td>0.079709</td>\n",
       "      <td>0.272551</td>\n",
       "      <td>0.162086</td>\n",
       "      <td>0.074284</td>\n",
       "    </tr>\n",
       "    <tr>\n",
       "      <th>31</th>\n",
       "      <td></td>\n",
       "      <td>2017-04-08 16:44:38</td>\n",
       "      <td>4 min 49.331 sec</td>\n",
       "      <td>31.0</td>\n",
       "      <td>0.281826</td>\n",
       "      <td>0.161976</td>\n",
       "      <td>0.079426</td>\n",
       "      <td>0.272413</td>\n",
       "      <td>0.162100</td>\n",
       "      <td>0.074209</td>\n",
       "    </tr>\n",
       "  </tbody>\n",
       "</table>\n",
       "</div>"
      ],
      "text/plain": [
       "                timestamp           duration  number_of_trees  training_rmse  \\\n",
       "0     2017-04-08 16:39:48          0.043 sec              0.0            NaN   \n",
       "1     2017-04-08 16:40:00         11.341 sec              1.0       0.390571   \n",
       "2     2017-04-08 16:40:09         20.952 sec              2.0       0.375937   \n",
       "3     2017-04-08 16:40:18         29.529 sec              3.0       0.365292   \n",
       "4     2017-04-08 16:40:26         37.658 sec              4.0       0.357726   \n",
       "5     2017-04-08 16:40:35         46.328 sec              5.0       0.349219   \n",
       "6     2017-04-08 16:40:44         55.197 sec              6.0       0.341384   \n",
       "7     2017-04-08 16:40:54   1 min  5.263 sec              7.0       0.333233   \n",
       "8     2017-04-08 16:41:02   1 min 13.923 sec              8.0       0.326305   \n",
       "9     2017-04-08 16:41:12   1 min 23.293 sec              9.0       0.319536   \n",
       "10    2017-04-08 16:41:21   1 min 32.299 sec             10.0       0.314566   \n",
       "11    2017-04-08 16:41:29   1 min 40.633 sec             11.0       0.310575   \n",
       "12    2017-04-08 16:41:37   1 min 48.803 sec             12.0       0.306754   \n",
       "13    2017-04-08 16:41:47   1 min 58.365 sec             13.0       0.303905   \n",
       "14    2017-04-08 16:41:57   2 min  8.729 sec             14.0       0.300784   \n",
       "15    2017-04-08 16:42:06   2 min 17.597 sec             15.0       0.297916   \n",
       "16    2017-04-08 16:42:15   2 min 26.811 sec             16.0       0.295536   \n",
       "17    2017-04-08 16:42:24   2 min 35.966 sec             17.0       0.293470   \n",
       "18    2017-04-08 16:42:34   2 min 45.404 sec             18.0       0.291646   \n",
       "19    2017-04-08 16:42:43   2 min 54.827 sec             19.0       0.290414   \n",
       "20    2017-04-08 16:42:53   3 min  4.126 sec             20.0       0.289261   \n",
       "21    2017-04-08 16:43:02   3 min 13.418 sec             21.0       0.288234   \n",
       "22    2017-04-08 16:43:11   3 min 23.078 sec             22.0       0.287465   \n",
       "23    2017-04-08 16:43:21   3 min 32.718 sec             23.0       0.286571   \n",
       "24    2017-04-08 16:43:30   3 min 42.032 sec             24.0       0.285812   \n",
       "25    2017-04-08 16:43:41   3 min 52.113 sec             25.0       0.285170   \n",
       "26    2017-04-08 16:43:50   4 min  1.911 sec             26.0       0.284550   \n",
       "27    2017-04-08 16:44:00   4 min 11.722 sec             27.0       0.283967   \n",
       "28    2017-04-08 16:44:10   4 min 21.306 sec             28.0       0.283186   \n",
       "29    2017-04-08 16:44:19   4 min 30.236 sec             29.0       0.282585   \n",
       "30    2017-04-08 16:44:28   4 min 39.708 sec             30.0       0.282328   \n",
       "31    2017-04-08 16:44:38   4 min 49.331 sec             31.0       0.281826   \n",
       "\n",
       "    training_mae  training_deviance  validation_rmse  validation_mae  \\\n",
       "0            NaN                NaN              NaN             NaN   \n",
       "1       0.152595           0.152546         0.392444        0.154074   \n",
       "2       0.151009           0.141329         0.331336        0.152182   \n",
       "3       0.151975           0.133438         0.309828        0.152681   \n",
       "4       0.154569           0.127968         0.300345        0.155194   \n",
       "5       0.156166           0.121954         0.294845        0.157087   \n",
       "6       0.157884           0.116543         0.291058        0.158801   \n",
       "7       0.158115           0.111044         0.287651        0.159113   \n",
       "8       0.158392           0.106475         0.285003        0.159243   \n",
       "9       0.157774           0.102104         0.282292        0.158418   \n",
       "10      0.158265           0.098952         0.281012        0.158861   \n",
       "11      0.158772           0.096457         0.280036        0.159437   \n",
       "12      0.159011           0.094098         0.279049        0.159535   \n",
       "13      0.159759           0.092358         0.278483        0.160292   \n",
       "14      0.159686           0.090471         0.277530        0.160140   \n",
       "15      0.159515           0.088754         0.276723        0.159984   \n",
       "16      0.159398           0.087341         0.275809        0.159743   \n",
       "17      0.159358           0.086125         0.275240        0.159768   \n",
       "18      0.159265           0.085058         0.274660        0.159706   \n",
       "19      0.159656           0.084340         0.274318        0.160010   \n",
       "20      0.159982           0.083672         0.274082        0.160276   \n",
       "21      0.160227           0.083079         0.273852        0.160522   \n",
       "22      0.160568           0.082636         0.273699        0.160832   \n",
       "23      0.160782           0.082123         0.273484        0.161076   \n",
       "24      0.160998           0.081689         0.273366        0.161232   \n",
       "25      0.161301           0.081322         0.273273        0.161500   \n",
       "26      0.161431           0.080968         0.273127        0.161606   \n",
       "27      0.161650           0.080637         0.272956        0.161821   \n",
       "28      0.161553           0.080194         0.272574        0.161705   \n",
       "29      0.161581           0.079854         0.272483        0.161741   \n",
       "30      0.161946           0.079709         0.272551        0.162086   \n",
       "31      0.161976           0.079426         0.272413        0.162100   \n",
       "\n",
       "    validation_deviance  \n",
       "0                   NaN  \n",
       "1              0.154012  \n",
       "2              0.109784  \n",
       "3              0.095993  \n",
       "4              0.090207  \n",
       "5              0.086933  \n",
       "6              0.084715  \n",
       "7              0.082743  \n",
       "8              0.081227  \n",
       "9              0.079689  \n",
       "10             0.078968  \n",
       "11             0.078420  \n",
       "12             0.077868  \n",
       "13             0.077553  \n",
       "14             0.077023  \n",
       "15             0.076575  \n",
       "16             0.076071  \n",
       "17             0.075757  \n",
       "18             0.075438  \n",
       "19             0.075250  \n",
       "20             0.075121  \n",
       "21             0.074995  \n",
       "22             0.074911  \n",
       "23             0.074794  \n",
       "24             0.074729  \n",
       "25             0.074678  \n",
       "26             0.074598  \n",
       "27             0.074505  \n",
       "28             0.074297  \n",
       "29             0.074247  \n",
       "30             0.074284  \n",
       "31             0.074209  "
      ]
     },
     "execution_count": 18,
     "metadata": {},
     "output_type": "execute_result"
    }
   ],
   "source": [
    "rf_v1.score_history()"
   ]
  },
  {
   "cell_type": "markdown",
   "metadata": {
    "collapsed": false
   },
   "source": [
    "# Computing score on test set using sklearn:"
   ]
  },
  {
   "cell_type": "code",
   "execution_count": 19,
   "metadata": {
    "collapsed": false
   },
   "outputs": [
    {
     "name": "stdout",
     "output_type": "stream",
     "text": [
      "drf prediction progress: |████████████████████████████████████████████████| 100%\n"
     ]
    }
   ],
   "source": [
    "final_rf_predictions = rf_v1.predict(testl[:-1])\n",
    "#test set accuracy\n"
   ]
  },
  {
   "cell_type": "code",
   "execution_count": null,
   "metadata": {
    "collapsed": true
   },
   "outputs": [],
   "source": []
  },
  {
   "cell_type": "code",
   "execution_count": 20,
   "metadata": {
    "collapsed": false
   },
   "outputs": [
    {
     "data": {
      "text/plain": [
       "0.93624160393457545"
      ]
     },
     "execution_count": 20,
     "metadata": {},
     "output_type": "execute_result"
    }
   ],
   "source": [
    "pred=final_rf_predictions.as_data_frame(use_pandas=True)\n",
    "pred=np.array(pred[\"predict\"])\n",
    "true_labels=np.array(testl[\"loan_status\"].as_data_frame(use_pandas=True))\n",
    "fpr, tpr, thresholds = metrics.roc_curve(true_labels, pred, pos_label=1)\n",
    "metrics.auc(fpr, tpr)"
   ]
  },
  {
   "cell_type": "code",
   "execution_count": 21,
   "metadata": {
    "collapsed": false
   },
   "outputs": [
    {
     "name": "stdout",
     "output_type": "stream",
     "text": [
      "\n",
      "ModelMetricsRegression: drf\n",
      "** Reported on test data. **\n",
      "\n",
      "MSE: 0.0742086384151\n",
      "RMSE: 0.272412625286\n",
      "MAE: 0.162100300797\n",
      "RMSLE: 0.191283144978\n",
      "Mean Residual Deviance: 0.0742086384151\n"
     ]
    }
   ],
   "source": [
    "my_rf_metrics = rf_v1.model_performance(validl)\n",
    "my_rf_metrics.show()"
   ]
  },
  {
   "cell_type": "code",
   "execution_count": null,
   "metadata": {
    "collapsed": true
   },
   "outputs": [],
   "source": []
  },
  {
   "cell_type": "code",
   "execution_count": 22,
   "metadata": {
    "collapsed": false
   },
   "outputs": [],
   "source": [
    "#h2o.shutdown(prompt=False)"
   ]
  }
 ],
 "metadata": {
  "kernelspec": {
   "display_name": "Python 2",
   "language": "python",
   "name": "python2"
  },
  "language_info": {
   "codemirror_mode": {
    "name": "ipython",
    "version": 2
   },
   "file_extension": ".py",
   "mimetype": "text/x-python",
   "name": "python",
   "nbconvert_exporter": "python",
   "pygments_lexer": "ipython2",
   "version": "2.7.13"
  }
 },
 "nbformat": 4,
 "nbformat_minor": 2
}
